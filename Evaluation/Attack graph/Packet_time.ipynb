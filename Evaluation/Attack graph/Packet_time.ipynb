{
 "cells": [
  {
   "cell_type": "code",
   "execution_count": 3,
   "id": "58cc0e57",
   "metadata": {},
   "outputs": [],
   "source": [
    "import pandas as pd\n",
    "import numpy as np\n",
    "import matplotlib.pyplot as plt\n",
    "import seaborn as sns\n",
    "import math\n",
    "from matplotlib.collections import LineCollection"
   ]
  },
  {
   "cell_type": "code",
   "execution_count": 5,
   "id": "52743885",
   "metadata": {},
   "outputs": [],
   "source": [
    "fname = ['synflood','readbomb','injection','combination']\n",
    "f=0\n",
    "normal = pd.read_csv('csv/'+fname[f]+'_normal.csv')\n",
    "normal['Time'] = normal['Time'].apply(math.floor)\n",
    "normal = normal[['No.','Time']].to_numpy()\n",
    "attack = pd.read_csv('csv/'+fname[f]+'_attack.csv')\n",
    "attack['Time'] = attack['Time'].apply(math.floor)\n",
    "attack = attack[['No.','Time']].to_numpy()\n",
    "attack_time = np.unique(attack[:,1])\n",
    "data = np.concatenate((attack,normal), axis=0)\n",
    "time = len(np.unique(data[:,1]))\n",
    "pkt = []"
   ]
  },
  {
   "cell_type": "code",
   "execution_count": 6,
   "id": "23763e6e",
   "metadata": {},
   "outputs": [],
   "source": [
    "def smooth(y, box_pts):\n",
    "    box = np.ones(box_pts)/box_pts\n",
    "    y_smooth = np.convolve(y, box, mode='same')\n",
    "    return y_smooth"
   ]
  },
  {
   "cell_type": "code",
   "execution_count": 7,
   "id": "8ad86ab3",
   "metadata": {},
   "outputs": [],
   "source": [
    "for i in range(time):\n",
    "    pkt.append([i,np.count_nonzero(data[:,1] == i)])\n",
    "    \n",
    "pkt = np.asarray(pkt)"
   ]
  },
  {
   "cell_type": "code",
   "execution_count": 8,
   "id": "253ec1ae",
   "metadata": {},
   "outputs": [],
   "source": [
    "smooth_pkt = pkt.copy()\n",
    "smooth_pkt[:,1] = smooth(smooth_pkt[:,1],20)\n",
    "smooth_time = []\n",
    "for t in attack_time:\n",
    "    for i in range(t-9,t):\n",
    "        smooth_time.append(i)\n",
    "    for j in range(t,t+9):\n",
    "        smooth_time.append(j)"
   ]
  },
  {
   "cell_type": "code",
   "execution_count": null,
   "id": "a93e2c6c",
   "metadata": {},
   "outputs": [],
   "source": [
    "for i in smooth_pkt:\n",
    "    "
   ]
  },
  {
   "cell_type": "code",
   "execution_count": null,
   "id": "882ec894",
   "metadata": {},
   "outputs": [],
   "source": [
    "x = pkt[:,0]\n",
    "y = pkt[:,1]\n",
    "points = np.array([x, y]).T.reshape(-1, 1, 2)\n",
    "segments = np.concatenate([points[:-1], points[1:]], axis=1)\n",
    "\n",
    "cm = dict(zip(range(0,2,1),list(\"br\")))\n",
    "colors = list( map( cm.get , np.isin(x,attack_time) ))\n",
    "\n",
    "lc = LineCollection(segments, colors=colors, linewidths= 1)\n",
    "fig, ax = plt.subplots()\n",
    "ax.add_collection(lc)\n",
    "\n",
    "ax.autoscale()\n",
    "ax.margins(0.1)\n",
    "plt.xlabel('Time (seconds)')\n",
    "plt.ylabel('Number of packets')\n",
    "plt.title('Number of packet/time during attack')\n",
    "# plt.savefig('plot/'+fname[i]+'/'+fname[i]+'_pkt.pdf')\n",
    "plt.show()"
   ]
  },
  {
   "cell_type": "code",
   "execution_count": null,
   "id": "93fa7c9d",
   "metadata": {},
   "outputs": [],
   "source": [
    "x = range(len(smooth_pkt))\n",
    "y = smooth_pkt[:,1]\n",
    "points = np.array([x, y]).T.reshape(-1, 1, 2)\n",
    "segments = np.concatenate([points[:-1], points[1:]], axis=1)\n",
    "\n",
    "cm = dict(zip(range(0,2,1),list(\"br\")))\n",
    "colors = list( map( cm.get , np.isin(x,smooth_time) ))\n",
    "\n",
    "lc = LineCollection(segments, colors=colors, linewidths= 1)\n",
    "fig, ax = plt.subplots()\n",
    "ax.add_collection(lc)\n",
    "\n",
    "ax.autoscale()\n",
    "ax.margins(0.1)\n",
    "plt.xlabel('Time (seconds)')\n",
    "plt.ylabel('Number of packets')\n",
    "plt.title('Number of packet/time during attack')\n",
    "# plt.ylim([0,200])\n",
    "# plt.savefig('plot/'+fname[f]+'/'+fname[f]+'_pkt.pdf')\n",
    "plt.show()"
   ]
  },
  {
   "cell_type": "code",
   "execution_count": null,
   "id": "1654e5dd",
   "metadata": {},
   "outputs": [],
   "source": []
  },
  {
   "cell_type": "code",
   "execution_count": null,
   "id": "db836159",
   "metadata": {},
   "outputs": [],
   "source": []
  }
 ],
 "metadata": {
  "kernelspec": {
   "display_name": "Python 3 (ipykernel)",
   "language": "python",
   "name": "python3"
  },
  "language_info": {
   "codemirror_mode": {
    "name": "ipython",
    "version": 3
   },
   "file_extension": ".py",
   "mimetype": "text/x-python",
   "name": "python",
   "nbconvert_exporter": "python",
   "pygments_lexer": "ipython3",
   "version": "3.9.13"
  }
 },
 "nbformat": 4,
 "nbformat_minor": 5
}
