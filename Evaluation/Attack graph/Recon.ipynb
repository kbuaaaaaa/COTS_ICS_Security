{
 "cells": [
  {
   "cell_type": "code",
   "execution_count": null,
   "id": "04dea46e",
   "metadata": {},
   "outputs": [],
   "source": [
    "import pandas as pd\n",
    "import numpy as np\n",
    "import matplotlib.pyplot as plt\n",
    "import seaborn as sns\n",
    "import math\n",
    "from matplotlib.collections import LineCollection"
   ]
  },
  {
   "cell_type": "code",
   "execution_count": null,
   "id": "98f0aa54",
   "metadata": {},
   "outputs": [],
   "source": [
    "normal = pd.read_csv('recon/recon_normal.csv')\n",
    "normal['time'] = normal['time'].apply(lambda x : x[:8])\n",
    "attack = pd.read_csv('recon/recon_attack.csv')\n",
    "attack['time'] = attack['time'].apply(lambda x : x[:8])\n",
    "attack = attack.to_numpy()\n",
    "attack_time = np.unique(attack[:,0])\n",
    "data = np.concatenate((attack,normal), axis=0)\n",
    "time = len(np.unique(data[:,0]))\n",
    "pkt = []\n",
    "timestamps = sorted(np.unique(data[:,0]))\n",
    "for i in range(len(data[:,0])):\n",
    "    data[i,0] = timestamps.index(data[i,0])\n",
    "    \n",
    "for i in range(len(attack_time)):\n",
    "    attack_time[i] = timestamps.index(attack_time[i])\n",
    "print(attack_time)"
   ]
  },
  {
   "cell_type": "code",
   "execution_count": null,
   "id": "fb5878d2",
   "metadata": {},
   "outputs": [],
   "source": [
    "for i in range(time):\n",
    "    pkt.append([i,np.count_nonzero(data[:,0] == i)])\n",
    "    \n",
    "pkt = np.asarray(pkt)"
   ]
  },
  {
   "cell_type": "code",
   "execution_count": null,
   "id": "3dab7422",
   "metadata": {},
   "outputs": [],
   "source": [
    "x = pkt[:,0]\n",
    "y = pkt[:,1]\n",
    "points = np.array([x, y]).T.reshape(-1, 1, 2)\n",
    "segments = np.concatenate([points[:-1], points[1:]], axis=1)\n",
    "\n",
    "cm = dict(zip(range(0,2,1),list(\"br\")))\n",
    "colors = list( map( cm.get , np.isin(x,attack_time) ))\n",
    "\n",
    "lc = LineCollection(segments, colors=colors, linewidths= 1)\n",
    "fig, ax = plt.subplots()\n",
    "ax.add_collection(lc)\n",
    "\n",
    "ax.autoscale()\n",
    "ax.margins(0.1)\n",
    "plt.xlabel('Time (seconds)')\n",
    "plt.ylabel('Number of packets')\n",
    "plt.title('Number of packet/time during attack')\n",
    "# plt.ylim(0,100)\n",
    "plt.savefig('plot/recon/recon_pkt.pdf')\n",
    "plt.show()"
   ]
  },
  {
   "cell_type": "code",
   "execution_count": null,
   "id": "de850304",
   "metadata": {},
   "outputs": [],
   "source": [
    "port = []\n",
    "for i in range(time):\n",
    "    port.append([i,len(np.unique(data[data[:, 0] == i, 1]))])\n",
    "    \n",
    "port = np.asarray(port)\n",
    "print(port)"
   ]
  },
  {
   "cell_type": "code",
   "execution_count": null,
   "id": "dbe63d25",
   "metadata": {},
   "outputs": [],
   "source": [
    "x = port[:,0]\n",
    "y = port[:,1]\n",
    "points = np.array([x, y]).T.reshape(-1, 1, 2)\n",
    "segments = np.concatenate([points[:-1], points[1:]], axis=1)\n",
    "\n",
    "cm = dict(zip(range(0,2,1),list(\"br\")))\n",
    "colors = list( map( cm.get , np.isin(x,attack_time) ))\n",
    "\n",
    "lc = LineCollection(segments, colors=colors, linewidths= 1)\n",
    "fig, ax = plt.subplots()\n",
    "ax.add_collection(lc)\n",
    "\n",
    "ax.autoscale()\n",
    "ax.margins(0.1)\n",
    "plt.xlabel('Time (seconds)')\n",
    "plt.ylabel('Number of destination ports')\n",
    "plt.title('Number of destination ports/time during attack')\n",
    "plt.savefig('plot/recon/reon_.pdf')\n",
    "# plt.ylim(0,100)\n",
    "plt.show()"
   ]
  },
  {
   "cell_type": "code",
   "execution_count": null,
   "id": "f8a74f5b",
   "metadata": {},
   "outputs": [],
   "source": []
  },
  {
   "cell_type": "code",
   "execution_count": null,
   "id": "f86a78c9",
   "metadata": {},
   "outputs": [],
   "source": []
  }
 ],
 "metadata": {
  "kernelspec": {
   "display_name": "Python 3 (ipykernel)",
   "language": "python",
   "name": "python3"
  },
  "language_info": {
   "codemirror_mode": {
    "name": "ipython",
    "version": 3
   },
   "file_extension": ".py",
   "mimetype": "text/x-python",
   "name": "python",
   "nbconvert_exporter": "python",
   "pygments_lexer": "ipython3",
   "version": "3.8.13"
  }
 },
 "nbformat": 4,
 "nbformat_minor": 5
}
