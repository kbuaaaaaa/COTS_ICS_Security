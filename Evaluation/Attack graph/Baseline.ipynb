{
 "cells": [
  {
   "cell_type": "code",
   "execution_count": null,
   "id": "57b29f83",
   "metadata": {},
   "outputs": [],
   "source": [
    "import pandas as pd\n",
    "import numpy as np\n",
    "import matplotlib.pyplot as plt\n",
    "import seaborn as sns\n",
    "import math\n",
    "from matplotlib.collections import LineCollection\n",
    "from pycaret.anomaly import *"
   ]
  },
  {
   "cell_type": "code",
   "execution_count": null,
   "id": "f3354ceb",
   "metadata": {},
   "outputs": [],
   "source": [
    "# normal = pd.read_csv('normal.csv')\n",
    "# normal['Time'] = normal['Time'].apply(math.floor)\n",
    "# normal = normal[['No.','Time']].to_numpy()\n",
    "# attack_time = []\n",
    "# data = normal\n",
    "# time = len(np.unique(data[:,1]))\n",
    "# pkt = []"
   ]
  },
  {
   "cell_type": "code",
   "execution_count": null,
   "id": "04c97145",
   "metadata": {},
   "outputs": [],
   "source": [
    "normal = pd.read_csv('raw_normal3.csv')\n",
    "normal = normal[['attack','time']].to_numpy()\n",
    "attack_time = []\n",
    "data = normal\n",
    "time = len(np.unique(data[:,1]))\n",
    "pkt = []"
   ]
  },
  {
   "cell_type": "code",
   "execution_count": null,
   "id": "dd033ecc",
   "metadata": {},
   "outputs": [],
   "source": [
    "for i in range(time):\n",
    "    pkt.append([i,np.count_nonzero(data[:,1] == i)])\n",
    "    \n",
    "pkt = np.asarray(pkt)\n",
    "print(pkt)"
   ]
  },
  {
   "cell_type": "code",
   "execution_count": null,
   "id": "a555074c",
   "metadata": {},
   "outputs": [],
   "source": [
    "def smooth(y, box_pts):\n",
    "    box = np.ones(box_pts)/box_pts\n",
    "    y_smooth = np.convolve(y, box, mode='same')\n",
    "    return y_smooth"
   ]
  },
  {
   "cell_type": "code",
   "execution_count": null,
   "id": "64db765d",
   "metadata": {},
   "outputs": [],
   "source": [
    "smooth_pkt = pkt.copy()\n",
    "smooth_pkt[:,1] = smooth(smooth_pkt[:,1],10)\n",
    "smooth_pkt = smooth_pkt[3400:-50,:]\n",
    "pkt = pkt[3400:-50,:]"
   ]
  },
  {
   "cell_type": "code",
   "execution_count": null,
   "id": "a4c9b27f",
   "metadata": {},
   "outputs": [],
   "source": [
    "x = range(len(pkt))\n",
    "y = pkt[:,1]\n",
    "points = np.array([x, y]).T.reshape(-1, 1, 2)\n",
    "segments = np.concatenate([points[:-1], points[1:]], axis=1)\n",
    "\n",
    "cm = dict(zip(range(0,2,1),list(\"br\")))\n",
    "colors = list( map( cm.get , np.isin(x,attack_time) ))\n",
    "\n",
    "lc = LineCollection(segments, colors=colors, linewidths= 1)\n",
    "fig, ax = plt.subplots()\n",
    "ax.add_collection(lc)\n",
    "\n",
    "ax.autoscale()\n",
    "ax.margins(0.1)\n",
    "plt.xlabel('Time (seconds)')\n",
    "plt.ylabel('Number of packets')\n",
    "plt.ylim(0,40)\n",
    "plt.show()"
   ]
  },
  {
   "cell_type": "code",
   "execution_count": null,
   "id": "dd9d9e82",
   "metadata": {},
   "outputs": [],
   "source": [
    "x = range(len(smooth_pkt))\n",
    "y = smooth_pkt[:,1]\n",
    "points = np.array([x, y]).T.reshape(-1, 1, 2)\n",
    "segments = np.concatenate([points[:-1], points[1:]], axis=1)\n",
    "\n",
    "cm = dict(zip(range(0,2,1),list(\"br\")))\n",
    "colors = list( map( cm.get , np.isin(x,attack_time) ))\n",
    "\n",
    "lc = LineCollection(segments, colors=colors, linewidths= 1)\n",
    "fig, ax = plt.subplots()\n",
    "ax.add_collection(lc)\n",
    "\n",
    "ax.autoscale()\n",
    "ax.margins(y=1)\n",
    "plt.xlabel('Time (seconds)')\n",
    "plt.ylabel('Number of packets')\n",
    "plt.title('Normal ICS operation number of packet/time')\n",
    "plt.ylim(0,30)\n",
    "plt.savefig('plot/baseline/baseline_pkt_entropy.pdf')\n",
    "plt.show()"
   ]
  },
  {
   "cell_type": "code",
   "execution_count": null,
   "id": "49f86168",
   "metadata": {},
   "outputs": [],
   "source": [
    "data = pd.read_csv('plc_normal.csv').to_numpy()\n",
    "data = data[:2500,:]\n",
    "attack_time = []"
   ]
  },
  {
   "cell_type": "code",
   "execution_count": null,
   "id": "b68ad301",
   "metadata": {},
   "outputs": [],
   "source": [
    "x = range(len(data))\n",
    "height = data[:,0]\n",
    "high = data[:,3]\n",
    "low = data[:,4]\n",
    "\n",
    "plt.plot(x, height, label = \"Height\")\n",
    "plt.plot(x, high, label = \"High limit\")\n",
    "plt.plot(x, low, label = \"Low limit\")\n",
    "\n",
    "plt.xlabel('Time (seconds)')\n",
    "plt.ylabel('Water Height (metre)')\n",
    "plt.legend()\n",
    "plt.ylim(0,150)\n",
    "plt.title('Normal PLC operation parameter value')\n",
    "plt.savefig('plot/baseline/baseline_plc.pdf')\n",
    "plt.show()"
   ]
  },
  {
   "cell_type": "code",
   "execution_count": null,
   "id": "4b60fb8d",
   "metadata": {},
   "outputs": [],
   "source": []
  }
 ],
 "metadata": {
  "kernelspec": {
   "display_name": "Python 3 (ipykernel)",
   "language": "python",
   "name": "python3"
  },
  "language_info": {
   "codemirror_mode": {
    "name": "ipython",
    "version": 3
   },
   "file_extension": ".py",
   "mimetype": "text/x-python",
   "name": "python",
   "nbconvert_exporter": "python",
   "pygments_lexer": "ipython3",
   "version": "3.8.13"
  }
 },
 "nbformat": 4,
 "nbformat_minor": 5
}
