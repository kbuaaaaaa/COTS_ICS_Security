{
 "cells": [
  {
   "cell_type": "code",
   "execution_count": null,
   "id": "ba1b0095",
   "metadata": {},
   "outputs": [],
   "source": [
    "import pandas as pd\n",
    "import numpy as np\n",
    "import matplotlib.pyplot as plt\n",
    "import seaborn as sns\n",
    "import math\n",
    "from matplotlib.collections import LineCollection"
   ]
  },
  {
   "cell_type": "code",
   "execution_count": null,
   "id": "8ad1cec8",
   "metadata": {},
   "outputs": [],
   "source": [
    "fname = ['injection','combination']\n",
    "i=1\n",
    "data = pd.read_csv(fname[i]+'/'+fname[i]+'_plc_dos.csv').to_numpy()\n",
    "data = data[100:,:]\n",
    "attack_time = np.asarray(np.where(data[:,-1] == 1)[0])\n",
    "print(attack_time)"
   ]
  },
  {
   "cell_type": "code",
   "execution_count": null,
   "id": "a4589c44",
   "metadata": {},
   "outputs": [],
   "source": [
    "x = range(len(data))\n",
    "height = data[:,0]\n",
    "high = data[:,3]\n",
    "low = data[:,4]\n",
    "\n",
    "cm = dict(zip(range(0,2,1),list(\"br\")))\n",
    "colors = list( map( cm.get , np.isin(x,attack_time) ))\n",
    "fig, ax = plt.subplots()\n",
    "\n",
    "height_points = np.array([x, height]).T.reshape(-1, 1, 2)\n",
    "height_segments = np.concatenate([height_points[:-1], height_points[1:]], axis=1)\n",
    "\n",
    "height_lc = LineCollection(height_segments, colors=colors, linewidths= 1)\n",
    "ax.add_collection(height_lc)\n",
    "\n",
    "# high_points = np.array([x, high]).T.reshape(-1, 1, 2)\n",
    "# high_segments = np.concatenate([high_points[:-1], high_points[1:]], axis=1)\n",
    "\n",
    "# high_lc = LineCollection(high_segments, colors=colors, linewidths= 1)\n",
    "# ax.add_collection(high_lc)\n",
    "\n",
    "# low_points = np.array([x, low]).T.reshape(-1, 1, 2)\n",
    "# low_segments = np.concatenate([low_points[:-1], low_points[1:]], axis=1)\n",
    "\n",
    "# low_lc = LineCollection(low_segments, colors=colors, linewidths= 1)\n",
    "# ax.add_collection(low_lc)\n",
    "\n",
    "ax.autoscale()\n",
    "ax.margins(0.1)\n",
    "plt.xlabel('Time (seconds)')\n",
    "plt.ylabel('Water Height (metre)')\n",
    "plt.ylim(0,150)\n",
    "plt.title('Water height value during attack')\n",
    "plt.savefig('plot/'+fname[i]+'/'+fname[i]+'_plc_height.pdf')\n",
    "plt.show()"
   ]
  },
  {
   "cell_type": "code",
   "execution_count": null,
   "id": "b3b3b772",
   "metadata": {},
   "outputs": [],
   "source": [
    "x = range(len(data))\n",
    "height = data[:,0]\n",
    "high = data[:,3]\n",
    "low = data[:,4]\n",
    "\n",
    "cm = dict(zip(range(0,2,1),list(\"br\")))\n",
    "colors = list( map( cm.get , np.isin(x,attack_time) ))\n",
    "fig, ax = plt.subplots()\n",
    "\n",
    "# height_points = np.array([x, height]).T.reshape(-1, 1, 2)\n",
    "# height_segments = np.concatenate([height_points[:-1], height_points[1:]], axis=1)\n",
    "\n",
    "# height_lc = LineCollection(height_segments, colors=colors, linewidths= 1)\n",
    "# ax.add_collection(height_lc)\n",
    "\n",
    "high_points = np.array([x, high]).T.reshape(-1, 1, 2)\n",
    "high_segments = np.concatenate([high_points[:-1], high_points[1:]], axis=1)\n",
    "\n",
    "high_lc = LineCollection(high_segments, colors=colors, linewidths= 1)\n",
    "ax.add_collection(high_lc)\n",
    "\n",
    "# low_points = np.array([x, low]).T.reshape(-1, 1, 2)\n",
    "# low_segments = np.concatenate([low_points[:-1], low_points[1:]], axis=1)\n",
    "\n",
    "# low_lc = LineCollection(low_segments, colors=colors, linewidths= 1)\n",
    "# ax.add_collection(low_lc)\n",
    "\n",
    "ax.autoscale()\n",
    "ax.margins(0.1)\n",
    "plt.xlabel('Time (seconds)')\n",
    "plt.ylabel('Height Limit (metre)')\n",
    "plt.title('Height limit value during attack')\n",
    "plt.ylim(0,800)\n",
    "plt.savefig('plot/'+fname[i]+'/'+fname[i]+'_plc_limit.pdf')\n",
    "plt.show()"
   ]
  },
  {
   "cell_type": "code",
   "execution_count": null,
   "id": "79653457",
   "metadata": {},
   "outputs": [],
   "source": []
  },
  {
   "cell_type": "code",
   "execution_count": null,
   "id": "d9f92f87",
   "metadata": {},
   "outputs": [],
   "source": []
  }
 ],
 "metadata": {
  "kernelspec": {
   "display_name": "Python 3 (ipykernel)",
   "language": "python",
   "name": "python3"
  },
  "language_info": {
   "codemirror_mode": {
    "name": "ipython",
    "version": 3
   },
   "file_extension": ".py",
   "mimetype": "text/x-python",
   "name": "python",
   "nbconvert_exporter": "python",
   "pygments_lexer": "ipython3",
   "version": "3.9.13"
  }
 },
 "nbformat": 4,
 "nbformat_minor": 5
}
