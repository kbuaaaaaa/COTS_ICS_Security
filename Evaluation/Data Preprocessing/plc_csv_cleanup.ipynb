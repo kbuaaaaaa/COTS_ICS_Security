{
 "cells": [
  {
   "cell_type": "code",
   "execution_count": 14,
   "id": "22a914ce",
   "metadata": {},
   "outputs": [],
   "source": [
    "import numpy as np\n",
    "import pandas as pd\n",
    "import glob"
   ]
  },
  {
   "cell_type": "code",
   "execution_count": 15,
   "id": "fa8fcfca",
   "metadata": {},
   "outputs": [
    {
     "name": "stdout",
     "output_type": "stream",
     "text": [
      "report/all_1900-2000_16-02.csv\n",
      "report/all_1500-1600_16-02.csv\n",
      "report/all_1400-1500_16-02.csv\n",
      "report/all_2000-2100_16-02.csv\n"
     ]
    }
   ],
   "source": [
    "output = np.array([['Time','Height','High','Low','High Limit','Low Limit','Valve In','Valve Out']])\n",
    "files = glob.glob(\"report/*.csv\")\n",
    "for i in range(len(files)):\n",
    "    print(files[i])\n",
    "    logfile = np.loadtxt(str(files[i]), delimiter=',',dtype=str)\n",
    "    for item in logfile:\n",
    "        if item[1] not in output[:,0]:\n",
    "            output = np.append(output,[[item[1],-1,-1,-1,-1,-1,-1,-1]],axis = 0)\n",
    "    output = output[output[:, 0].argsort()]  \n",
    "    var = ['PLC - Height','PLC - High','PLC - Low','PLC - High Limit','PLC - Low Limit','PLC - Valve In','PLC - Valve Out']\n",
    "    for i in range(len(var)):\n",
    "        for item in logfile[np.where(logfile[:,0]==var[i])]:\n",
    "            for row in output:\n",
    "                if row[0]==item[1]:\n",
    "                    row[1+i]=item[3]\n",
    "    for i in range(1,len(output[0])):\n",
    "        val = '-1'\n",
    "        for row in output:\n",
    "            if row[i] == '-1':\n",
    "                row[i] = val\n",
    "            else:\n",
    "                val = row[i]\n",
    "\n",
    "to_file = pd.DataFrame(output)\n",
    "to_file.to_csv('plc_normal_output.csv', index=False)"
   ]
  },
  {
   "cell_type": "code",
   "execution_count": null,
   "id": "7b6fd52c",
   "metadata": {},
   "outputs": [],
   "source": []
  },
  {
   "cell_type": "code",
   "execution_count": null,
   "id": "a759e32e",
   "metadata": {},
   "outputs": [],
   "source": []
  }
 ],
 "metadata": {
  "kernelspec": {
   "display_name": "Python 3 (ipykernel)",
   "language": "python",
   "name": "python3"
  },
  "language_info": {
   "codemirror_mode": {
    "name": "ipython",
    "version": 3
   },
   "file_extension": ".py",
   "mimetype": "text/x-python",
   "name": "python",
   "nbconvert_exporter": "python",
   "pygments_lexer": "ipython3",
   "version": "3.8.13"
  },
  "vscode": {
   "interpreter": {
    "hash": "aee8b7b246df8f9039afb4144a1f6fd8d2ca17a180786b69acc140d282b71a49"
   }
  }
 },
 "nbformat": 4,
 "nbformat_minor": 5
}
