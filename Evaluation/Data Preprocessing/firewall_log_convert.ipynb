{
 "cells": [
  {
   "cell_type": "code",
   "execution_count": null,
   "id": "00c70fae",
   "metadata": {},
   "outputs": [],
   "source": [
    "import pandas as pd\n",
    "data=pd.read_csv('firewall_log', sep=' ', header=None, names=[\"date\",\"time\",\"action\",\"protocol\",\"src-ip\",\"dst-ip\",\"src-port\",\"dst-port\",\"size\",\"tcpflags\",\"tcpsyn\",\"tcpack\",\"tcpwin\",\"icmptype\",\"icmpcode\",\"info\",\"path\"])\n",
    "data.to_csv('firewall_log.csv', index=False)                                        "
   ]
  },
  {
   "cell_type": "code",
   "execution_count": null,
   "id": "c53114cf",
   "metadata": {},
   "outputs": [],
   "source": []
  }
 ],
 "metadata": {
  "kernelspec": {
   "display_name": "Python 3",
   "language": "python",
   "name": "python3"
  },
  "language_info": {
   "codemirror_mode": {
    "name": "ipython",
    "version": 3
   },
   "file_extension": ".py",
   "mimetype": "text/x-python",
   "name": "python",
   "nbconvert_exporter": "python",
   "pygments_lexer": "ipython3",
   "version": "3.10.2"
  },
  "vscode": {
   "interpreter": {
    "hash": "aee8b7b246df8f9039afb4144a1f6fd8d2ca17a180786b69acc140d282b71a49"
   }
  }
 },
 "nbformat": 4,
 "nbformat_minor": 5
}
