{
 "cells": [
  {
   "cell_type": "code",
   "execution_count": 67,
   "id": "bacd27fa",
   "metadata": {},
   "outputs": [],
   "source": [
    "import numpy as np"
   ]
  },
  {
   "cell_type": "code",
   "execution_count": 98,
   "id": "903ccfe3",
   "metadata": {},
   "outputs": [
    {
     "name": "stdout",
     "output_type": "stream",
     "text": [
      "['PLC - High' '09:25:14' 'TRUE' '1']\n",
      "['PLC - High' '09:25:18' 'FALSE' '0']\n",
      "['PLC - High' '09:27:10' 'TRUE' '1']\n",
      "['PLC - High' '09:27:13' 'FALSE' '0']\n",
      "['PLC - High' '09:29:21' 'TRUE' '1']\n",
      "['PLC - High' '09:29:23' 'FALSE' '0']\n",
      "['PLC - High' '09:30:42' 'TRUE' '1']\n",
      "['PLC - High' '09:30:45' 'FALSE' '0']\n",
      "['PLC - High' '09:33:27' 'TRUE' '1']\n",
      "['PLC - High' '09:33:31' 'FALSE' '0']\n",
      "['PLC - High' '09:35:19' 'TRUE' '1']\n",
      "['PLC - High' '09:35:22' 'FALSE' '0']\n",
      "['PLC - High' '09:37:19' 'TRUE' '1']\n",
      "['PLC - High' '09:37:22' 'FALSE' '0']\n",
      "['PLC - High' '09:39:19' 'TRUE' '1']\n",
      "['PLC - High' '09:39:22' 'FALSE' '0']\n",
      "['PLC - High' '09:41:16' 'TRUE' '1']\n",
      "['PLC - High' '09:41:18' 'FALSE' '0']\n",
      "['PLC - High' '09:43:23' 'TRUE' '1']\n",
      "['PLC - High' '09:43:26' 'FALSE' '0']\n",
      "['PLC - High' '09:44:37' 'TRUE' '1']\n",
      "['PLC - High' '09:44:39' 'FALSE' '0']\n",
      "['PLC - High' '09:46:42' 'TRUE' '1']\n",
      "['PLC - High' '09:46:47' 'FALSE' '0']\n",
      "['PLC - High' '09:49:06' 'TRUE' '1']\n",
      "['PLC - High' '09:49:09' 'FALSE' '0']\n",
      "['PLC - High' '09:51:23' 'TRUE' '1']\n",
      "['PLC - High' '09:51:25' 'FALSE' '0']\n",
      "['PLC - High' '09:53:34' 'FALSE' '0']\n",
      "['PLC - High' '09:55:07' 'TRUE' '1']\n",
      "['PLC - High' '09:55:10' 'FALSE' '0']\n",
      "['PLC - High' '09:57:29' 'TRUE' '1']\n",
      "['PLC - High' '09:57:31' 'FALSE' '0']\n",
      "['PLC - High' '09:59:14' 'TRUE' '1']\n",
      "['PLC - High' '09:59:18' 'FALSE' '0']\n",
      "[['Time' 'Height' 'High' ... 'Master' 'Valve In' 'Valve Out']\n",
      " ['09:20:00' '1' '0' ... '0' '0' '0']\n",
      " ['09:20:05' '2' '0' ... '0' '0' '0']\n",
      " ...\n",
      " ['09:59:49' '92' '0' ... '0' '0' '0']\n",
      " ['09:59:53' '91' '0' ... '0' '0' '0']\n",
      " ['09:59:57' '90' '0' ... '0' '0' '0']]\n"
     ]
    }
   ],
   "source": [
    "# ['Time','Height','High','Low','High Limit','Low Limit','Master','Valve In','Valve Out'])\n",
    "logfile = np.loadtxt('all_0900-1000_16-02.csv', delimiter=',',dtype=str)\n",
    "output = [['Time','Height','High','Low','High Limit','Low Limit','Master','Valve In','Valve Out']]\n",
    "for item in logfile[np.where(logfile[:,0]=='PLC - Height')]:\n",
    "    output = np.append(output,[[item[1],item[3],0,0,0,0,0,0,0]],axis = 0)\n",
    "for item in logfile[np.where(logfile[:,0]=='PLC - High')]:\n",
    "    for row in output:\n",
    "        if item[1] == row[0]:\n",
    "            row[2] = item[3]\n",
    "print(output)"
   ]
  },
  {
   "cell_type": "code",
   "execution_count": 39,
   "id": "c6aa1191",
   "metadata": {},
   "outputs": [
    {
     "ename": "AttributeError",
     "evalue": "'_csv.reader' object has no attribute 'writer'",
     "output_type": "error",
     "traceback": [
      "\u001b[0;31m---------------------------------------------------------------------------\u001b[0m",
      "\u001b[0;31mAttributeError\u001b[0m                            Traceback (most recent call last)",
      "Cell \u001b[0;32mIn [39], line 2\u001b[0m\n\u001b[1;32m      1\u001b[0m \u001b[38;5;28;01mwith\u001b[39;00m \u001b[38;5;28mopen\u001b[39m(\u001b[38;5;124m'\u001b[39m\u001b[38;5;124mplc.csv\u001b[39m\u001b[38;5;124m'\u001b[39m, mode\u001b[38;5;241m=\u001b[39m\u001b[38;5;124m'\u001b[39m\u001b[38;5;124mw\u001b[39m\u001b[38;5;124m'\u001b[39m) \u001b[38;5;28;01mas\u001b[39;00m output:\n\u001b[0;32m----> 2\u001b[0m     employee_writer \u001b[38;5;241m=\u001b[39m \u001b[43mcsv\u001b[49m\u001b[38;5;241;43m.\u001b[39;49m\u001b[43mwriter\u001b[49m(output, delimiter\u001b[38;5;241m=\u001b[39m\u001b[38;5;124m'\u001b[39m\u001b[38;5;124m,\u001b[39m\u001b[38;5;124m'\u001b[39m, quotechar\u001b[38;5;241m=\u001b[39m\u001b[38;5;124m'\u001b[39m\u001b[38;5;124m\"\u001b[39m\u001b[38;5;124m'\u001b[39m, quoting\u001b[38;5;241m=\u001b[39mcsv\u001b[38;5;241m.\u001b[39mQUOTE_MINIMAL)\n",
      "\u001b[0;31mAttributeError\u001b[0m: '_csv.reader' object has no attribute 'writer'"
     ]
    }
   ],
   "source": [
    "with open('plc.csv', mode='w') as output:\n",
    "    employee_writer = csv.writer(output, delimiter=',', quotechar='\"', quoting=csv.QUOTE_MINIMAL)\n"
   ]
  },
  {
   "cell_type": "code",
   "execution_count": null,
   "id": "b4a43d89",
   "metadata": {},
   "outputs": [],
   "source": []
  }
 ],
 "metadata": {
  "kernelspec": {
   "display_name": "Python 3 (ipykernel)",
   "language": "python",
   "name": "python3"
  },
  "language_info": {
   "codemirror_mode": {
    "name": "ipython",
    "version": 3
   },
   "file_extension": ".py",
   "mimetype": "text/x-python",
   "name": "python",
   "nbconvert_exporter": "python",
   "pygments_lexer": "ipython3",
   "version": "3.10.2"
  }
 },
 "nbformat": 4,
 "nbformat_minor": 5
}
