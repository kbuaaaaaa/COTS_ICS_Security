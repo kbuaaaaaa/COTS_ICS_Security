{
 "cells": [
  {
   "cell_type": "code",
   "execution_count": null,
   "id": "605300f1",
   "metadata": {},
   "outputs": [],
   "source": [
    "import pandas as pd\n",
    "import numpy as np\n",
    "import matplotlib.pyplot as plt\n",
    "import seaborn as sns\n",
    "from scipy.stats import entropy\n",
    "from matplotlib.collections import LineCollection\n",
    "from sklearn.metrics import RocCurveDisplay\n",
    "from pycaret.anomaly import *\n",
    "from sklearn.preprocessing import MinMaxScaler"
   ]
  },
  {
   "cell_type": "code",
   "execution_count": null,
   "id": "d9d46478",
   "metadata": {},
   "outputs": [],
   "source": [
    "col = ['eth.src', 'eth.dst', 'ip.src', 'ip.dst', 'ip.len', 'ip.ttl', 'ip.proto', 'attack']\n"
   ]
  },
  {
   "cell_type": "code",
   "execution_count": null,
   "id": "48176ef8",
   "metadata": {},
   "outputs": [],
   "source": [
    "def calc_entropy(value):\n",
    "    uvalue,counts = np.unique(value, return_counts=True)\n",
    "    if value.shape[0] > 1:\n",
    "        return entropy(counts)\n",
    "    else :\n",
    "        return -1\n",
    "\n",
    "def get_entropy(column,i,df):\n",
    "    temp = df.loc[df['time'] == i]\n",
    "    return calc_entropy(temp[column])"
   ]
  },
  {
   "cell_type": "code",
   "execution_count": null,
   "id": "97895503",
   "metadata": {},
   "outputs": [],
   "source": [
    "def smooth(y, box_pts):\n",
    "    box = np.ones(box_pts)/box_pts\n",
    "    y_smooth = np.convolve(y, box, mode='same')\n",
    "    return y_smooth"
   ]
  },
  {
   "cell_type": "code",
   "execution_count": null,
   "id": "cbabc1d7",
   "metadata": {},
   "outputs": [],
   "source": [
    "# for i in range(time):\n",
    "#     result = [get_entropy(col[j],i,data) for j in range(1,len(col))]\n",
    "#     if -1 not in result:\n",
    "#         file_entropy[i,1:] = result\n",
    "\n",
    "# file_entropy = file_entropy[~np.any(file_entropy == -1, axis=1)]\n",
    "# file_entropy = file_entropy[~np.all(file_entropy == 0, axis=1)]\n",
    "# attack_entropy = file_entropy[:,-1]\n",
    "    \n",
    "# to_file = pd.DataFrame(file_entropy)\n",
    "# to_file.columns = col\n",
    "# to_file.to_csv('training_entropy.csv', index=False)\n",
    "# attack_to_file = pd.DataFrame(attack_entropy)\n",
    "# attack_to_file.columns = ['attack']\n",
    "# attack_to_file.to_csv('training_attack.csv', index=False)\n",
    "\n",
    "\n",
    "file_entropy = pd.read_csv('testsets/entropy/training_entropy.csv')[['eth.src', 'eth.dst', 'ip.src', 'ip.dst', 'ip.len', 'ip.ttl', 'ip.proto', 'attack']].to_numpy()\n",
    "attack_entropy = pd.read_csv('testsets/entropy/training_attack.csv').to_numpy()"
   ]
  },
  {
   "cell_type": "code",
   "execution_count": null,
   "id": "d9a297fe",
   "metadata": {},
   "outputs": [],
   "source": [
    "   attack_time = np.asarray(np.where(attack_entropy > 0))[0]      "
   ]
  },
  {
   "cell_type": "code",
   "execution_count": null,
   "id": "db3a301b",
   "metadata": {},
   "outputs": [],
   "source": [
    "smooth_entropy = file_entropy.copy()\n",
    "for i in range(smooth_entropy.shape[1]):\n",
    "    smooth_entropy[:,i] = smooth(smooth_entropy[:,i],1000)\n",
    "\n",
    "smooth_entropy = smooth_entropy[1000:-500,:]\n",
    "for j in range(len(smooth_entropy[:,-1])):\n",
    "    if smooth_entropy[j,-1] > 0:\n",
    "        smooth_entropy[j,-1] = 1"
   ]
  },
  {
   "cell_type": "code",
   "execution_count": null,
   "id": "d005c50b",
   "metadata": {},
   "outputs": [],
   "source": [
    "smooth_time = np.asarray(np.where(smooth_entropy[:,-1] == 1))[0]"
   ]
  },
  {
   "cell_type": "code",
   "execution_count": null,
   "id": "87b31283",
   "metadata": {},
   "outputs": [],
   "source": [
    "# for i in range(file_entropy.shape[1]-1):\n",
    "#     x = range(file_entropy.shape[0])\n",
    "#     y = file_entropy[:,i]\n",
    "#     points = np.array([x, y]).T.reshape(-1, 1, 2)\n",
    "#     segments = np.concatenate([points[:-1], points[1:]], axis=1)\n",
    "\n",
    "#     cm = dict(zip(range(0,2,1),list(\"br\")))\n",
    "#     colors = list( map( cm.get , np.isin(x,attack_time) ))\n",
    "\n",
    "#     lc = LineCollection(segments, colors=colors, linewidths= 1)\n",
    "#     fig, ax = plt.subplots()\n",
    "#     ax.add_collection(lc)\n",
    "\n",
    "#     ax.autoscale()\n",
    "#     ax.margins(0.1)\n",
    "#     plt.xlabel('Time (second)')\n",
    "#     plt.ylabel('Entropy')\n",
    "#     plt.title(col[i])\n",
    "#     plt.savefig('plot/all/entropy/all_'+col[i]+'_entropy.pdf') \n",
    "#     plt.show() "
   ]
  },
  {
   "cell_type": "code",
   "execution_count": null,
   "id": "fd8c91fe",
   "metadata": {},
   "outputs": [],
   "source": [
    "for i in range(0,len(col)-1):\n",
    "# for i in range(0,1):\n",
    "    x = range(smooth_entropy.shape[0])\n",
    "    y = smooth_entropy[:,i]\n",
    "    points = np.array([x, y]).T.reshape(-1, 1, 2)\n",
    "    segments = np.concatenate([points[:-1], points[1:]], axis=1)\n",
    "\n",
    "    cm = dict(zip(range(0,2,1),list(\"br\")))\n",
    "    colors = list( map( cm.get , np.isin(x,smooth_time) ))\n",
    "\n",
    "    lc = LineCollection(segments, colors=colors, linewidths=1)\n",
    "    fig, ax = plt.subplots()\n",
    "    ax.add_collection(lc)\n",
    "    ax.autoscale()\n",
    "    ax.margins(0.1)\n",
    "    plt.xlabel('Time (second)')\n",
    "    plt.ylabel('Entropy')\n",
    "    plt.title(col[i])\n",
    "#     plt.savefig('plot/all/smooth/all_'+col[i]+'_smoooth_entropy.pdf') \n",
    "    plt.show()"
   ]
  },
  {
   "cell_type": "code",
   "execution_count": null,
   "id": "2fbb3beb",
   "metadata": {},
   "outputs": [],
   "source": [
    "smooth_entropy = pd.DataFrame(smooth_entropy)\n",
    "smooth_entropy.columns = col\n",
    "\n",
    "file_entropy = pd.DataFrame(file_entropy)\n",
    "file_entropy.columns = col"
   ]
  },
  {
   "cell_type": "code",
   "execution_count": null,
   "id": "f68423ca",
   "metadata": {},
   "outputs": [],
   "source": [
    "# plotcol = np.asarray([['eth.src', 'eth.dst', 'ip.src', 'ip.dst']\n",
    "#           ,['ip.len', 'ip.id', 'ip.ttl', 'ip.proto']\n",
    "#           ,['tcp.srcport', 'tcp.dstport', 'tcp.seq', 'tcp.ack']\n",
    "#           ,['tcp.flags', 'tcp.window_size', 'tcp.time_delta', 'tcp.time_relative']])\n",
    "\n",
    "# fig, axs = plt.subplots(4, 4,constrained_layout = True,figsize=(20,10))\n",
    "\n",
    "\n",
    "\n",
    "# for i in range(len(plotcol)):\n",
    "#     for j in range(len(plotcol[i,:])):\n",
    "#         x = range(file_entropy.shape[0])\n",
    "#         y = file_entropy[plotcol[i,j]]\n",
    "#         points = np.array([x, y]).T.reshape(-1, 1, 2)\n",
    "#         segments = np.concatenate([points[:-1], points[1:]], axis=1)\n",
    "#         cm = dict(zip(range(0,2,1),list(\"br\")))\n",
    "#         colors = list( map( cm.get , np.isin(x,smooth_time) ))\n",
    "\n",
    "#         lc = LineCollection(segments, colors=colors, linewidths=1)\n",
    "#         axs[i, j].plot(x, y)\n",
    "#         axs[i, j].set_title(plotcol[i,j])\n",
    "#         axs[i, j].add_collection(lc)\n",
    "#         axs[i, j].autoscale()\n",
    "#         axs[i, j].margins(0.1)\n",
    "#         axs[i, j].set(xlabel='Time (second)', ylabel='Entropy')\n",
    "        \n",
    "# plt.savefig('plot/all/entropy/all_entropy.pdf')  "
   ]
  },
  {
   "cell_type": "code",
   "execution_count": null,
   "id": "498d4389",
   "metadata": {},
   "outputs": [],
   "source": [
    "# plotcol = np.asarray([['eth.src', 'eth.dst', 'ip.src', 'ip.dst']\n",
    "#           ,['ip.len', 'ip.id', 'ip.ttl', 'ip.proto']\n",
    "#           ,['tcp.srcport', 'tcp.dstport', 'tcp.seq', 'tcp.ack']\n",
    "#           ,['tcp.flags', 'tcp.window_size', 'tcp.time_delta', 'tcp.time_relative']])\n",
    "\n",
    "# fig, axs = plt.subplots(4, 4,constrained_layout = True,figsize=(20,10))\n",
    "\n",
    "\n",
    "\n",
    "# for i in range(len(plotcol)):\n",
    "#     for j in range(len(plotcol[i,:])):\n",
    "#         x = range(smooth_entropy.shape[0])\n",
    "#         y = smooth_entropy[plotcol[i,j]]\n",
    "#         points = np.array([x, y]).T.reshape(-1, 1, 2)\n",
    "#         segments = np.concatenate([points[:-1], points[1:]], axis=1)\n",
    "#         cm = dict(zip(range(0,2,1),list(\"br\")))\n",
    "#         colors = list( map( cm.get , np.isin(x,smooth_time) ))\n",
    "\n",
    "#         lc = LineCollection(segments, colors=colors, linewidths=1)\n",
    "#         axs[i, j].plot(x, y)\n",
    "#         axs[i, j].set_title(plotcol[i,j])\n",
    "#         axs[i, j].add_collection(lc)\n",
    "#         axs[i, j].autoscale()\n",
    "#         axs[i, j].margins(0.1)\n",
    "#         axs[i, j].set(xlabel='Time (second)', ylabel='Entropy')\n",
    "        \n",
    "# plt.savefig('plot/all/smooth/all_smooth_entropy.pdf')  "
   ]
  },
  {
   "cell_type": "code",
   "execution_count": null,
   "id": "5ed66246",
   "metadata": {},
   "outputs": [],
   "source": [
    "X = smooth_entropy.drop(['attack'],axis=1)\n",
    "setup(X,session_id=123)"
   ]
  },
  {
   "cell_type": "code",
   "execution_count": null,
   "id": "23c235aa",
   "metadata": {},
   "outputs": [],
   "source": [
    "models()"
   ]
  },
  {
   "cell_type": "code",
   "execution_count": null,
   "id": "e482abe6",
   "metadata": {},
   "outputs": [],
   "source": [
    "mcd = create_model('mcd', fraction = 0.054)\n",
    "save_model(pca,'models/mcd')"
   ]
  },
  {
   "cell_type": "code",
   "execution_count": null,
   "id": "1c724bbf",
   "metadata": {},
   "outputs": [],
   "source": [
    "cluster = create_model('cluster', fraction = 0.054)\n",
    "save_model(cluster,'models/cluster')"
   ]
  },
  {
   "cell_type": "code",
   "execution_count": null,
   "id": "553b4c61",
   "metadata": {},
   "outputs": [],
   "source": [
    "iforest = create_model('iforest', fraction = 0.054)\n",
    "save_model(iforest,'models/iforest')\n",
    "iforest_result = assign_model(iforest)\n",
    "print(iforest_result)"
   ]
  },
  {
   "cell_type": "code",
   "execution_count": null,
   "id": "09da08ae",
   "metadata": {},
   "outputs": [],
   "source": [
    "histogram = create_model('histogram', fraction = 0.054)\n",
    "save_model(histogram,'models/histogram')"
   ]
  },
  {
   "cell_type": "code",
   "execution_count": null,
   "id": "d9e082dc",
   "metadata": {},
   "outputs": [],
   "source": [
    "svm = create_model('svm', fraction = 0.054)\n",
    "save_model(svm,'models/svm')"
   ]
  },
  {
   "cell_type": "code",
   "execution_count": null,
   "id": "7911356d",
   "metadata": {},
   "outputs": [],
   "source": [
    "pca = create_model('pca', fraction = 0.054)\n",
    "save_model(pca,'models/pca')"
   ]
  },
  {
   "cell_type": "code",
   "execution_count": null,
   "id": "32ac1485",
   "metadata": {},
   "outputs": [],
   "source": []
  },
  {
   "cell_type": "code",
   "execution_count": null,
   "id": "2e12fbd6",
   "metadata": {},
   "outputs": [],
   "source": []
  },
  {
   "cell_type": "code",
   "execution_count": null,
   "id": "ddc04764",
   "metadata": {},
   "outputs": [],
   "source": []
  }
 ],
 "metadata": {
  "kernelspec": {
   "display_name": "Python 3 (ipykernel)",
   "language": "python",
   "name": "python3"
  },
  "language_info": {
   "codemirror_mode": {
    "name": "ipython",
    "version": 3
   },
   "file_extension": ".py",
   "mimetype": "text/x-python",
   "name": "python",
   "nbconvert_exporter": "python",
   "pygments_lexer": "ipython3",
   "version": "3.8.13"
  },
  "vscode": {
   "interpreter": {
    "hash": "aee8b7b246df8f9039afb4144a1f6fd8d2ca17a180786b69acc140d282b71a49"
   }
  }
 },
 "nbformat": 4,
 "nbformat_minor": 5
}
