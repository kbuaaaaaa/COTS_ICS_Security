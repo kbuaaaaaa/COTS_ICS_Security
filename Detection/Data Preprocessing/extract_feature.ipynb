{
 "cells": [
  {
   "cell_type": "code",
   "execution_count": 2,
   "id": "adfffe1a",
   "metadata": {},
   "outputs": [
    {
     "name": "stderr",
     "output_type": "stream",
     "text": [
      "WARNING: No IPv4 address found on en5 !\n",
      "WARNING: No IPv4 address found on ap1 !\n",
      "WARNING: more No IPv4 address found on awdl0 !\n"
     ]
    }
   ],
   "source": [
    "from scapy.all import *\n",
    "from netml.pparser.parser import PCAP\n",
    "import pandas as pd\n",
    "import glob\n",
    "import numpy as np"
   ]
  },
  {
   "cell_type": "code",
   "execution_count": null,
   "id": "111c53a1",
   "metadata": {},
   "outputs": [],
   "source": [
    "files = glob.glob(\"csv/*.csv\")\n",
    "for i in range(len(files)):\n",
    "    files[i] = files[i][4:-4]\n",
    "\n",
    "for file in files:\n",
    "    print('processing '+file)\n",
    "    csv = pd.read_csv('csv/'+file+'.csv').to_numpy()\n",
    "    csv = np.append(csv,[[0]]*len(csv), axis=1)\n",
    "    \n",
    "    netml = PCAP('pcap/'+file+'.pcap')\n",
    "    netml.pcap2pandas()\n",
    "    datetime = netml.df.to_numpy()\n",
    "    for i in range(len(csv)):\n",
    "        [date,time] = str(datetime[i,0]).split(' ')\n",
    "        csv[i,0] = date\n",
    "        csv[i,1] = time\n",
    "    \n",
    "    scapydf = rdpcap('pcap/'+file+'.pcap')\n",
    "    for i in range(len(csv)):\n",
    "        if csv[i,15] == 'Modbus/TCP':\n",
    "            if Raw in scapydf[i]:\n",
    "                csv[i,-1] = scapydf[i][Raw].load[2:].hex()\n",
    "            else :\n",
    "                csv[i,-1] = 0\n",
    "        else :\n",
    "            csv[i,-1] = 0\n",
    "    \n",
    "    pd.DataFrame(csv).to_csv('output/'+file+'.csv', index=False)"
   ]
  },
  {
   "cell_type": "code",
   "execution_count": null,
   "id": "2670deda",
   "metadata": {},
   "outputs": [
    {
     "name": "stdout",
     "output_type": "stream",
     "text": [
      "processing pn-bs-ms\n",
      "processing synflood\n"
     ]
    }
   ],
   "source": [
    "# \"2023-02-16\"\n",
    "dayone = [[\"10:45:00\",\"11:16:00\"],\n",
    "          [\"12:35:00\",\"13:06:00\"],\n",
    "          [\"13:45:00\",\"14:16:00\"],\n",
    "          [\"14:55:00\",\"15:26:00\"],\n",
    "          [\"20:00:00\",\"20:31:00\"]]\n",
    "# \"2023-02-17\"\n",
    "daytwo = [[\"10:05:00\",\"10:21:00\"],\n",
    "          [\"10:55:00\",\"11:11:00\"],\n",
    "          [\"11:45:00\",\"12:01:00\"],\n",
    "          [\"12:35:00\",\"12:51:00\"],\n",
    "          [\"13:25:00\",\"13:41:00\"],\n",
    "          [\"14:15:00\",\"14:46:00\"]]\n",
    "\n",
    "output = np.array([['date','time','eth.src','eth.dst','eth.type','ip.src',\n",
    "                    'ip.dst','ip.version','ip.hdr_len','ip.dsfield','ip.len',\n",
    "                    'ip.id','ip.flags','ip.frag_offset','ip.ttl','ip.proto','tcp.srcport',\n",
    "                    'tcp.dstport','tcp.seq','tcp.ack','tcp.hdr_len','tcp.flags','tcp.window_size',\n",
    "                    'tcp.time_delta','tcp.time_relative','raw','attack']])\n",
    "\n",
    "attack = 0\n",
    "\n",
    "files = glob.glob(\"output/*.csv\")\n",
    "for i in range(len(files)):\n",
    "    files[i] = files[i][7:-4]\n",
    "\n",
    "for file in files:\n",
    "    print('processing '+file)\n",
    "    csv = pd.read_csv('output/'+file+'.csv').to_numpy()\n",
    "    csv = np.append(csv,[[0]]*len(csv), axis=1)\n",
    "    for row in csv:\n",
    "        if row[0] == \"2023-02-16\":\n",
    "            for time in dayone:\n",
    "                if row[1] >= time[0] and row[1] <= time[1]:\n",
    "                    row[-1] = 1\n",
    "                    attack+=1\n",
    "        elif row[0] == \"2023-02-17\":\n",
    "             for time in daytwo:\n",
    "                if row[1] >= time[0] and row[1] <= time[1]:\n",
    "                    row[-1] = 1  \n",
    "                    attack+=1\n",
    "        output = np.append(output,[row],axis = 0)"
   ]
  },
  {
   "cell_type": "code",
   "execution_count": null,
   "id": "d6748ba2",
   "metadata": {},
   "outputs": [],
   "source": [
    "print(attack)\n",
    "output = output[np.lexsort((output[:,0], output[:,1]))]\n",
    "to_file = pd.DataFrame(output)\n",
    "to_file.to_csv('output.csv', index=False)"
   ]
  },
  {
   "cell_type": "code",
   "execution_count": null,
   "id": "e9b26e0a",
   "metadata": {},
   "outputs": [],
   "source": []
  }
 ],
 "metadata": {
  "kernelspec": {
   "display_name": "Python 3 (ipykernel)",
   "language": "python",
   "name": "python3"
  },
  "language_info": {
   "codemirror_mode": {
    "name": "ipython",
    "version": 3
   },
   "file_extension": ".py",
   "mimetype": "text/x-python",
   "name": "python",
   "nbconvert_exporter": "python",
   "pygments_lexer": "ipython3",
   "version": "3.10.2"
  }
 },
 "nbformat": 4,
 "nbformat_minor": 5
}
