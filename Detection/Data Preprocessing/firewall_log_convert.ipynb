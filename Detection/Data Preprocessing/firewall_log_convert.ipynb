{
 "cells": [
  {
   "cell_type": "code",
   "execution_count": 3,
   "id": "00c70fae",
   "metadata": {},
   "outputs": [
    {
     "name": "stdout",
     "output_type": "stream",
     "text": [
      "             date      time action protocol          src-ip         dst-ip  \\\n",
      "0      2023-02-16  11:26:14  ALLOW      UDP       10.0.3.15   77.234.40.79   \n",
      "1      2023-02-16  11:26:15  ALLOW      TCP       10.0.3.15     20.50.73.9   \n",
      "2      2023-02-16  11:26:35  ALLOW      UDP  192.168.88.204   192.168.88.1   \n",
      "3      2023-02-16  11:27:05  ALLOW      UDP   192.168.88.10    224.0.0.251   \n",
      "4      2023-02-16  11:27:05  ALLOW      UDP   192.168.88.10    224.0.0.251   \n",
      "...           ...       ...    ...      ...             ...            ...   \n",
      "17335  2023-02-17  15:05:51  ALLOW      TCP       10.0.3.15  20.90.153.243   \n",
      "17336  2023-02-17  15:05:54  ALLOW      UDP       10.0.3.15      10.5.24.1   \n",
      "17337  2023-02-17  15:05:54  ALLOW      TCP       10.0.3.15    13.89.179.9   \n",
      "17338  2023-02-17  15:05:56  ALLOW      UDP       10.0.3.15      10.5.24.1   \n",
      "17339  2023-02-17  15:05:56  ALLOW      TCP       10.0.3.15  20.190.169.24   \n",
      "\n",
      "      src-port dst-port  size tcpflags tcpsyn tcpack tcpwin icmptype icmpcode  \\\n",
      "0        63940       53     0        -      -      -      -        -        -   \n",
      "1        60016      443     0        -      0      0      0        -        -   \n",
      "2        53486       53     0        -      -      -      -        -        -   \n",
      "3         5353     5353     0        -      -      -      -        -        -   \n",
      "4         5353     5353     0        -      -      -      -        -        -   \n",
      "...        ...      ...   ...      ...    ...    ...    ...      ...      ...   \n",
      "17335    49695      443     0        -      0      0      0        -        -   \n",
      "17336    49738       53     0        -      -      -      -        -        -   \n",
      "17337    49696      443     0        -      0      0      0        -        -   \n",
      "17338    50523       53     0        -      -      -      -        -        -   \n",
      "17339    49697      443     0        -      0      0      0        -        -   \n",
      "\n",
      "      info     path  \n",
      "0        -     SEND  \n",
      "1        -     SEND  \n",
      "2        -     SEND  \n",
      "3        -  RECEIVE  \n",
      "4        -  RECEIVE  \n",
      "...    ...      ...  \n",
      "17335    -     SEND  \n",
      "17336    -     SEND  \n",
      "17337    -     SEND  \n",
      "17338    -     SEND  \n",
      "17339    -     SEND  \n",
      "\n",
      "[17340 rows x 17 columns]\n"
     ]
    }
   ],
   "source": [
    "import pandas as pd\n",
    "data=pd.read_csv('firewall_log', sep=' ', header=None, names=[\"date\",\"time\",\"action\",\"protocol\",\"src-ip\",\"dst-ip\",\"src-port\",\"dst-port\",\"size\",\"tcpflags\",\"tcpsyn\",\"tcpack\",\"tcpwin\",\"icmptype\",\"icmpcode\",\"info\",\"path\"])\n",
    "data.to_csv('firewall_log.csv', index=False)                                        "
   ]
  },
  {
   "cell_type": "code",
   "execution_count": null,
   "id": "c53114cf",
   "metadata": {},
   "outputs": [],
   "source": []
  }
 ],
 "metadata": {
  "kernelspec": {
   "display_name": "Python 3 (ipykernel)",
   "language": "python",
   "name": "python3"
  },
  "language_info": {
   "codemirror_mode": {
    "name": "ipython",
    "version": 3
   },
   "file_extension": ".py",
   "mimetype": "text/x-python",
   "name": "python",
   "nbconvert_exporter": "python",
   "pygments_lexer": "ipython3",
   "version": "3.10.2"
  }
 },
 "nbformat": 4,
 "nbformat_minor": 5
}
