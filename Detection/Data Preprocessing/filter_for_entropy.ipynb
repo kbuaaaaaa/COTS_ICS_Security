{
 "cells": [
  {
   "cell_type": "code",
   "execution_count": 23,
   "id": "157f7220",
   "metadata": {},
   "outputs": [],
   "source": [
    "import pandas as pd\n",
    "import numpy as np\n",
    "\n",
    "data = pd.read_csv('os_training.csv')"
   ]
  },
  {
   "cell_type": "code",
   "execution_count": 24,
   "id": "dc1b9bf2",
   "metadata": {},
   "outputs": [],
   "source": [
    "data = data.drop(['date','ip.dsfield','ip.frag_offset','ip.version','eth.type','ip.hdr_len','raw'], axis = 1)\n",
    "timestamps = sorted(data['time'].unique())\n",
    "data['time'] = data['time'].apply(lambda time : timestamps.index(time))"
   ]
  },
  {
   "cell_type": "code",
   "execution_count": 25,
   "id": "8589973b",
   "metadata": {},
   "outputs": [],
   "source": [
    "data.to_csv('os_entropy_set.csv', index=False)"
   ]
  },
  {
   "cell_type": "code",
   "execution_count": null,
   "id": "92c2b73a",
   "metadata": {},
   "outputs": [],
   "source": []
  }
 ],
 "metadata": {
  "kernelspec": {
   "display_name": "Python 3 (ipykernel)",
   "language": "python",
   "name": "python3"
  },
  "language_info": {
   "codemirror_mode": {
    "name": "ipython",
    "version": 3
   },
   "file_extension": ".py",
   "mimetype": "text/x-python",
   "name": "python",
   "nbconvert_exporter": "python",
   "pygments_lexer": "ipython3",
   "version": "3.8.13"
  }
 },
 "nbformat": 4,
 "nbformat_minor": 5
}
