{
 "cells": [
  {
   "cell_type": "code",
   "execution_count": 1,
   "id": "adfffe1a",
   "metadata": {},
   "outputs": [
    {
     "name": "stderr",
     "output_type": "stream",
     "text": [
      "WARNING: No IPv4 address found on en5 !\n",
      "WARNING: No IPv4 address found on ap1 !\n",
      "WARNING: more No IPv4 address found on awdl0 !\n"
     ]
    }
   ],
   "source": [
    "from scapy.all import *\n",
    "from netml.pparser.parser import PCAP\n",
    "import pandas as pd\n",
    "import glob\n",
    "import numpy as np"
   ]
  },
  {
   "cell_type": "code",
   "execution_count": null,
   "id": "111c53a1",
   "metadata": {},
   "outputs": [],
   "source": [
    "files = glob.glob(\"csv/*.csv\")\n",
    "for i in range(len(files)):\n",
    "    files[i] = files[i][4:-4]\n",
    "\n",
    "for file in files:\n",
    "    print('processing '+file)\n",
    "    csv = pd.read_csv('csv/'+file+'.csv').to_numpy()\n",
    "    csv = np.append(csv,[[0]]*len(csv), axis=1)\n",
    "    \n",
    "    netml = PCAP('pcap/'+file+'.pcap')\n",
    "    netml.pcap2pandas()\n",
    "    datetime = netml.df.to_numpy()\n",
    "    for i in range(len(csv)):\n",
    "        [date,time] = str(datetime[i,0]).split(' ')\n",
    "        csv[i,0] = date\n",
    "        csv[i,1] = time\n",
    "    \n",
    "    scapydf = rdpcap('pcap/'+file+'.pcap')\n",
    "    for i in range(len(csv)):\n",
    "        if csv[i,15] == 'Modbus/TCP':\n",
    "            if Raw in scapydf[i]:\n",
    "                csv[i,-1] = scapydf[i][Raw].load[2:].hex()\n",
    "            else :\n",
    "                csv[i,-1] = 0\n",
    "        else :\n",
    "            csv[i,-1] = 0\n",
    "    \n",
    "    pd.DataFrame(csv).to_csv('output/'+file+'.csv', index=False)"
   ]
  },
  {
   "cell_type": "code",
   "execution_count": 5,
   "id": "5eae8832",
   "metadata": {},
   "outputs": [
    {
     "name": "stdout",
     "output_type": "stream",
     "text": [
      "processing pn-bs-ms\n",
      "26\n",
      "27\n"
     ]
    },
    {
     "ename": "ValueError",
     "evalue": "all the input array dimensions for the concatenation axis must match exactly, but along dimension 1, the array at index 0 has size 27 and the array at index 1 has size 26",
     "output_type": "error",
     "traceback": [
      "\u001b[0;31m---------------------------------------------------------------------------\u001b[0m",
      "\u001b[0;31mValueError\u001b[0m                                Traceback (most recent call last)",
      "Cell \u001b[0;32mIn [5], line 40\u001b[0m\n\u001b[1;32m     38\u001b[0m                 \u001b[38;5;28;01mif\u001b[39;00m row[\u001b[38;5;241m1\u001b[39m] \u001b[38;5;241m>\u001b[39m\u001b[38;5;241m=\u001b[39m time[\u001b[38;5;241m0\u001b[39m] \u001b[38;5;129;01mand\u001b[39;00m row[\u001b[38;5;241m1\u001b[39m] \u001b[38;5;241m<\u001b[39m\u001b[38;5;241m=\u001b[39m time[\u001b[38;5;241m1\u001b[39m]:\n\u001b[1;32m     39\u001b[0m                     row[\u001b[38;5;241m-\u001b[39m\u001b[38;5;241m1\u001b[39m] \u001b[38;5;241m=\u001b[39m \u001b[38;5;241m1\u001b[39m  \n\u001b[0;32m---> 40\u001b[0m     \u001b[43mnp\u001b[49m\u001b[38;5;241;43m.\u001b[39;49m\u001b[43mappend\u001b[49m\u001b[43m(\u001b[49m\u001b[43moutput\u001b[49m\u001b[43m,\u001b[49m\u001b[43m[\u001b[49m\u001b[43mrow\u001b[49m\u001b[43m]\u001b[49m\u001b[43m,\u001b[49m\u001b[43maxis\u001b[49m\u001b[43m \u001b[49m\u001b[38;5;241;43m=\u001b[39;49m\u001b[43m \u001b[49m\u001b[38;5;241;43m0\u001b[39;49m\u001b[43m)\u001b[49m\n\u001b[1;32m     42\u001b[0m output \u001b[38;5;241m=\u001b[39m output[np\u001b[38;5;241m.\u001b[39mlexsort((output[:,\u001b[38;5;241m0\u001b[39m], a[:,\u001b[38;5;241m1\u001b[39m]))]\n\u001b[1;32m     43\u001b[0m to_file \u001b[38;5;241m=\u001b[39m pd\u001b[38;5;241m.\u001b[39mDataFrame(output)\n",
      "File \u001b[0;32m<__array_function__ internals>:180\u001b[0m, in \u001b[0;36mappend\u001b[0;34m(*args, **kwargs)\u001b[0m\n",
      "File \u001b[0;32m/Library/Frameworks/Python.framework/Versions/3.10/lib/python3.10/site-packages/numpy/lib/function_base.py:5444\u001b[0m, in \u001b[0;36mappend\u001b[0;34m(arr, values, axis)\u001b[0m\n\u001b[1;32m   5442\u001b[0m     values \u001b[38;5;241m=\u001b[39m ravel(values)\n\u001b[1;32m   5443\u001b[0m     axis \u001b[38;5;241m=\u001b[39m arr\u001b[38;5;241m.\u001b[39mndim\u001b[38;5;241m-\u001b[39m\u001b[38;5;241m1\u001b[39m\n\u001b[0;32m-> 5444\u001b[0m \u001b[38;5;28;01mreturn\u001b[39;00m \u001b[43mconcatenate\u001b[49m\u001b[43m(\u001b[49m\u001b[43m(\u001b[49m\u001b[43marr\u001b[49m\u001b[43m,\u001b[49m\u001b[43m \u001b[49m\u001b[43mvalues\u001b[49m\u001b[43m)\u001b[49m\u001b[43m,\u001b[49m\u001b[43m \u001b[49m\u001b[43maxis\u001b[49m\u001b[38;5;241;43m=\u001b[39;49m\u001b[43maxis\u001b[49m\u001b[43m)\u001b[49m\n",
      "File \u001b[0;32m<__array_function__ internals>:180\u001b[0m, in \u001b[0;36mconcatenate\u001b[0;34m(*args, **kwargs)\u001b[0m\n",
      "\u001b[0;31mValueError\u001b[0m: all the input array dimensions for the concatenation axis must match exactly, but along dimension 1, the array at index 0 has size 27 and the array at index 1 has size 26"
     ]
    }
   ],
   "source": [
    "# \"2023-02-16\"\n",
    "dayone = [[\"10:45:00\",\"11:16:00\"],\n",
    "          [\"12:35:00\",\"13:06:00\"],\n",
    "          [\"13:45:00\",\"14:16:00\"],\n",
    "          [\"14:55:00\",\"15:26:00\"],\n",
    "          [\"20:00:00\",\"20:31:00\"]]\n",
    "# \"2023-02-17\"\n",
    "daytwo = [[\"10:05:00\",\"10:21:00\"],\n",
    "          [\"10:55:00\",\"11:11:00\"],\n",
    "          [\"11:45:00\",\"12:01:00\"],\n",
    "          [\"12:35:00\",\"12:51:00\"],\n",
    "          [\"13:25:00\",\"13:41:00\"],\n",
    "          [\"14:15:00\",\"14:46:00\"]]\n",
    "\n",
    "output = np.array([['date','time','eth.src','eth.dst','eth.type','ip.src',\n",
    "                    'ip.dst','ip.version','ip.hdr_len','ip.dsfield','ip.len',\n",
    "                    'ip.id','ip.flags','ip.frag_offset','ip.ttl','ip.proto','tcp.srcport',\n",
    "                    'tcp.dstport','tcp.seq','tcp.ack','tcp.hdr_len','tcp.flags','tcp.window_size',\n",
    "                    'tcp.time_delta','tcp.time_relative','raw','attack']])\n",
    "\n",
    "files = glob.glob(\"output/*.csv\")\n",
    "for i in range(len(files)):\n",
    "    files[i] = files[i][7:-4]\n",
    "\n",
    "for file in files:\n",
    "    print('processing '+file)\n",
    "    csv = pd.read_csv('output/'+file+'.csv').to_numpy()\n",
    "    csv = np.append(csv,[[0]]*len(csv), axis=1)\n",
    "    for row in csv:\n",
    "        if row[0] == \"2023-02-16\":\n",
    "            for time in dayone:\n",
    "                if row[1] >= time[0] and row[1] <= time[1]:\n",
    "                    row[-1] = 1\n",
    "        elif row[0] == \"2023-02-17\":\n",
    "             for time in daytwo:\n",
    "                if row[1] >= time[0] and row[1] <= time[1]:\n",
    "                    row[-1] = 1  \n",
    "    np.append(output,[row],axis = 0)\n",
    "\n",
    "output = output[np.lexsort((output[:,0], a[:,1]))]\n",
    "to_file = pd.DataFrame(output)\n",
    "to_file.to_csv('output.csv', index=False)"
   ]
  },
  {
   "cell_type": "code",
   "execution_count": null,
   "id": "ce786284",
   "metadata": {},
   "outputs": [],
   "source": []
  }
 ],
 "metadata": {
  "kernelspec": {
   "display_name": "Python 3 (ipykernel)",
   "language": "python",
   "name": "python3"
  },
  "language_info": {
   "codemirror_mode": {
    "name": "ipython",
    "version": 3
   },
   "file_extension": ".py",
   "mimetype": "text/x-python",
   "name": "python",
   "nbconvert_exporter": "python",
   "pygments_lexer": "ipython3",
   "version": "3.10.2"
  }
 },
 "nbformat": 4,
 "nbformat_minor": 5
}
